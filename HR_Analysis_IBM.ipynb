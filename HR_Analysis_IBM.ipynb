{
  "metadata": {
    "colab": {
      "provenance": [],
      "include_colab_link": true
    },
    "kaggle": {
      "accelerator": "none",
      "dataSources": [
        {
          "sourceId": 1925,
          "sourceType": "datasetVersion",
          "datasetId": 1067
        }
      ],
      "dockerImageVersionId": 30775,
      "isInternetEnabled": false,
      "language": "python",
      "sourceType": "notebook",
      "isGpuEnabled": false
    },
    "kernelspec": {
      "name": "python3",
      "display_name": "Python 3",
      "language": "python"
    },
    "language_info": {
      "name": "python",
      "version": "3.10.14",
      "mimetype": "text/x-python",
      "codemirror_mode": {
        "name": "ipython",
        "version": 3
      },
      "pygments_lexer": "ipython3",
      "nbconvert_exporter": "python",
      "file_extension": ".py"
    },
    "papermill": {
      "default_parameters": {},
      "duration": 13.021689,
      "end_time": "2024-09-14T19:40:44.938397",
      "environment_variables": {},
      "exception": null,
      "input_path": "__notebook__.ipynb",
      "output_path": "__notebook__.ipynb",
      "parameters": {},
      "start_time": "2024-09-14T19:40:31.916708",
      "version": "2.6.0"
    }
  },
  "nbformat_minor": 0,
  "nbformat": 4,
  "cells": [
    {
      "cell_type": "markdown",
      "metadata": {
        "id": "view-in-github",
        "colab_type": "text"
      },
      "source": [
        "<a href=\"https://colab.research.google.com/github/Bhumika0509/Bhumika0509/blob/main/HR_Analysis_IBM.ipynb\" target=\"_parent\"><img src=\"https://colab.research.google.com/assets/colab-badge.svg\" alt=\"Open In Colab\"/></a>"
      ]
    },
    {
      "source": [
        "\n",
        "\n",
        "import os\n",
        "import sys\n",
        "from tempfile import NamedTemporaryFile\n",
        "from urllib.request import urlopen\n",
        "from urllib.parse import unquote, urlparse\n",
        "from urllib.error import HTTPError\n",
        "from zipfile import ZipFile\n",
        "import tarfile\n",
        "import shutil\n",
        "\n",
        "CHUNK_SIZE = 40960\n",
        "DATA_SOURCE_MAPPING = 'ibm-hr-analytics-attrition-dataset:https%3A%2F%2Fstorage.googleapis.com%2Fkaggle-data-sets%2F1067%2F1925%2Fbundle%2Farchive.zip%3FX-Goog-Algorithm%3DGOOG4-RSA-SHA256%26X-Goog-Credential%3Dgcp-kaggle-com%2540kaggle-161607.iam.gserviceaccount.com%252F20241005%252Fauto%252Fstorage%252Fgoog4_request%26X-Goog-Date%3D20241005T114904Z%26X-Goog-Expires%3D259200%26X-Goog-SignedHeaders%3Dhost%26X-Goog-Signature%3Db1b50fbacfa6043a67c24c08a978bcefce738a9469bbe3d726d7e121b6a2e1a8abc4b7722453ed2f16bb87103fad53d5d952f4d6cfb8089e50fd75d427fff409f45a8c1859c19e844457b4197117705503923308d3dbd28a42403cd617477613ba2b66aa1cfe40fb4f2e2bdd06466ad9aa35a9f8a91712415b37bfdb739d1e87c758845fd239faaca7476347e4f930c0afaae2ca6f16dee4d77dda8483133caef17f8865808165cedc145787966025a00435dcd83af4be8e578e3bd96911b96ddc4282e3124b9344946821afd41256cccac49ca9d18274fcb17249365322734d6289867662df7220695857009f378f05ab9719d151da25f04cbd45b70dae37bf'\n",
        "\n",
        "KAGGLE_INPUT_PATH='/kaggle/input'\n",
        "KAGGLE_WORKING_PATH='/kaggle/working'\n",
        "KAGGLE_SYMLINK='kaggle'\n",
        "\n",
        "!umount /kaggle/input/ 2> /dev/null\n",
        "shutil.rmtree('/kaggle/input', ignore_errors=True)\n",
        "os.makedirs(KAGGLE_INPUT_PATH, 0o777, exist_ok=True)\n",
        "os.makedirs(KAGGLE_WORKING_PATH, 0o777, exist_ok=True)\n",
        "\n",
        "try:\n",
        "  os.symlink(KAGGLE_INPUT_PATH, os.path.join(\"..\", 'input'), target_is_directory=True)\n",
        "except FileExistsError:\n",
        "  pass\n",
        "try:\n",
        "  os.symlink(KAGGLE_WORKING_PATH, os.path.join(\"..\", 'working'), target_is_directory=True)\n",
        "except FileExistsError:\n",
        "  pass\n",
        "\n",
        "for data_source_mapping in DATA_SOURCE_MAPPING.split(','):\n",
        "    directory, download_url_encoded = data_source_mapping.split(':')\n",
        "    download_url = unquote(download_url_encoded)\n",
        "    filename = urlparse(download_url).path\n",
        "    destination_path = os.path.join(KAGGLE_INPUT_PATH, directory)\n",
        "    try:\n",
        "        with urlopen(download_url) as fileres, NamedTemporaryFile() as tfile:\n",
        "            total_length = fileres.headers['content-length']\n",
        "            print(f'Downloading {directory}, {total_length} bytes compressed')\n",
        "            dl = 0\n",
        "            data = fileres.read(CHUNK_SIZE)\n",
        "            while len(data) > 0:\n",
        "                dl += len(data)\n",
        "                tfile.write(data)\n",
        "                done = int(50 * dl / int(total_length))\n",
        "                sys.stdout.write(f\"\\r[{'=' * done}{' ' * (50-done)}] {dl} bytes downloaded\")\n",
        "                sys.stdout.flush()\n",
        "                data = fileres.read(CHUNK_SIZE)\n",
        "            if filename.endswith('.zip'):\n",
        "              with ZipFile(tfile) as zfile:\n",
        "                zfile.extractall(destination_path)\n",
        "            else:\n",
        "              with tarfile.open(tfile.name) as tarfile:\n",
        "                tarfile.extractall(destination_path)\n",
        "            print(f'\\nDownloaded and uncompressed: {directory}')\n",
        "    except HTTPError as e:\n",
        "        print(f'Failed to load (likely expired) {download_url} to path {destination_path}')\n",
        "        continue\n",
        "    except OSError as e:\n",
        "        print(f'Failed to load {download_url} to path {destination_path}')\n",
        "        continue\n",
        "\n",
        "print('Data source import complete.')\n"
      ],
      "metadata": {
        "id": "oSzmp0F5gyI2",
        "colab": {
          "base_uri": "https://localhost:8080/"
        },
        "outputId": "730f95a5-4cff-4fc9-9db5-32dd94a0274c"
      },
      "cell_type": "code",
      "outputs": [
        {
          "output_type": "stream",
          "name": "stdout",
          "text": [
            "Downloading ibm-hr-analytics-attrition-dataset, 51314 bytes compressed\n",
            "[==================================================] 51314 bytes downloaded\n",
            "Downloaded and uncompressed: ibm-hr-analytics-attrition-dataset\n",
            "Data source import complete.\n"
          ]
        }
      ],
      "execution_count": 1
    },
    {
      "cell_type": "markdown",
      "source": [
        "# 0 - Importing Packages"
      ],
      "metadata": {
        "jp-MarkdownHeadingCollapsed": true,
        "id": "d_9fHIxFgyI5"
      }
    },
    {
      "cell_type": "code",
      "source": [
        "import numpy as np\n",
        "import pandas as pd\n",
        "import matplotlib.pyplot as plt\n",
        "import seaborn as sns\n",
        "import warnings\n",
        "from sklearn.model_selection import train_test_split\n",
        "from sklearn.compose import ColumnTransformer\n",
        "from sklearn.pipeline import Pipeline\n",
        "from sklearn.base import BaseEstimator, TransformerMixin\n",
        "from sklearn.preprocessing import StandardScaler, OneHotEncoder, MinMaxScaler\n",
        "from sklearn.impute import KNNImputer\n",
        "from sklearn.svm import SVC\n",
        "from sklearn.naive_bayes import GaussianNB\n",
        "import plotly.graph_objects as go\n",
        "from sklearn.linear_model import LogisticRegression\n",
        "from sklearn.metrics import accuracy_score, classification_report, recall_score, confusion_matrix\n",
        "warnings.simplefilter(action='ignore', category=FutureWarning)"
      ],
      "metadata": {
        "id": "aFfa4opelpcb",
        "execution": {
          "iopub.status.busy": "2024-09-28T15:39:38.694895Z",
          "iopub.execute_input": "2024-09-28T15:39:38.695317Z",
          "iopub.status.idle": "2024-09-28T15:39:42.447139Z",
          "shell.execute_reply.started": "2024-09-28T15:39:38.695279Z",
          "shell.execute_reply": "2024-09-28T15:39:42.445936Z"
        },
        "trusted": true
      },
      "execution_count": 2,
      "outputs": []
    },
    {
      "cell_type": "code",
      "source": [
        "df= pd.read_csv(\"/kaggle/input/ibm-hr-analytics-attrition-dataset/WA_Fn-UseC_-HR-Employee-Attrition.csv\")"
      ],
      "metadata": {
        "id": "_Wc6G3gPlpcb",
        "execution": {
          "iopub.status.busy": "2024-09-28T15:39:42.449491Z",
          "iopub.execute_input": "2024-09-28T15:39:42.450574Z",
          "iopub.status.idle": "2024-09-28T15:39:42.484522Z",
          "shell.execute_reply.started": "2024-09-28T15:39:42.450518Z",
          "shell.execute_reply": "2024-09-28T15:39:42.483194Z"
        },
        "trusted": true
      },
      "execution_count": null,
      "outputs": []
    },
    {
      "cell_type": "markdown",
      "source": [
        "# 1 - EDA"
      ],
      "metadata": {
        "id": "qvBVFYiMlpcc",
        "jp-MarkdownHeadingCollapsed": true
      }
    },
    {
      "cell_type": "code",
      "source": [
        "df.shape"
      ],
      "metadata": {
        "id": "wN33jW99lpcd",
        "execution": {
          "iopub.status.busy": "2024-09-28T15:39:42.486087Z",
          "iopub.execute_input": "2024-09-28T15:39:42.486629Z",
          "iopub.status.idle": "2024-09-28T15:39:42.496361Z",
          "shell.execute_reply.started": "2024-09-28T15:39:42.486572Z",
          "shell.execute_reply": "2024-09-28T15:39:42.495024Z"
        },
        "trusted": true
      },
      "execution_count": null,
      "outputs": []
    },
    {
      "cell_type": "code",
      "source": [
        "df.columns"
      ],
      "metadata": {
        "id": "w4xKoiswlpcd",
        "execution": {
          "iopub.status.busy": "2024-09-28T15:39:42.499287Z",
          "iopub.execute_input": "2024-09-28T15:39:42.499774Z",
          "iopub.status.idle": "2024-09-28T15:39:42.518128Z",
          "shell.execute_reply.started": "2024-09-28T15:39:42.499722Z",
          "shell.execute_reply": "2024-09-28T15:39:42.516857Z"
        },
        "trusted": true
      },
      "execution_count": null,
      "outputs": []
    },
    {
      "cell_type": "code",
      "source": [
        "df.head(30)"
      ],
      "metadata": {
        "id": "FijoekMclpcd",
        "execution": {
          "iopub.status.busy": "2024-09-28T15:39:42.519831Z",
          "iopub.execute_input": "2024-09-28T15:39:42.520679Z",
          "iopub.status.idle": "2024-09-28T15:39:42.57974Z",
          "shell.execute_reply.started": "2024-09-28T15:39:42.520634Z",
          "shell.execute_reply": "2024-09-28T15:39:42.578471Z"
        },
        "trusted": true
      },
      "execution_count": null,
      "outputs": []
    },
    {
      "cell_type": "code",
      "source": [
        "df.info()"
      ],
      "metadata": {
        "id": "SdtSC2JRlpcd",
        "execution": {
          "iopub.status.busy": "2024-09-28T15:39:42.581406Z",
          "iopub.execute_input": "2024-09-28T15:39:42.58183Z",
          "iopub.status.idle": "2024-09-28T15:39:42.607228Z",
          "shell.execute_reply.started": "2024-09-28T15:39:42.581778Z",
          "shell.execute_reply": "2024-09-28T15:39:42.605839Z"
        },
        "trusted": true
      },
      "execution_count": null,
      "outputs": []
    },
    {
      "cell_type": "code",
      "source": [
        "df.describe()"
      ],
      "metadata": {
        "id": "dk8_MKDylpcd",
        "execution": {
          "iopub.status.busy": "2024-09-28T15:39:42.609216Z",
          "iopub.execute_input": "2024-09-28T15:39:42.609811Z",
          "iopub.status.idle": "2024-09-28T15:39:42.703615Z",
          "shell.execute_reply.started": "2024-09-28T15:39:42.609755Z",
          "shell.execute_reply": "2024-09-28T15:39:42.702487Z"
        },
        "trusted": true
      },
      "execution_count": null,
      "outputs": []
    },
    {
      "cell_type": "code",
      "source": [
        "df.isnull().sum()"
      ],
      "metadata": {
        "id": "o7hFzOfglpce",
        "execution": {
          "iopub.status.busy": "2024-09-28T15:39:42.705882Z",
          "iopub.execute_input": "2024-09-28T15:39:42.706377Z",
          "iopub.status.idle": "2024-09-28T15:39:42.718531Z",
          "shell.execute_reply.started": "2024-09-28T15:39:42.706326Z",
          "shell.execute_reply": "2024-09-28T15:39:42.717036Z"
        },
        "trusted": true
      },
      "execution_count": null,
      "outputs": []
    },
    {
      "cell_type": "code",
      "source": [
        "df.duplicated().sum()"
      ],
      "metadata": {
        "id": "d36NEhkqlpce",
        "execution": {
          "iopub.status.busy": "2024-09-28T15:39:42.720396Z",
          "iopub.execute_input": "2024-09-28T15:39:42.721622Z",
          "iopub.status.idle": "2024-09-28T15:39:42.736525Z",
          "shell.execute_reply.started": "2024-09-28T15:39:42.721568Z",
          "shell.execute_reply": "2024-09-28T15:39:42.734769Z"
        },
        "trusted": true
      },
      "execution_count": null,
      "outputs": []
    },
    {
      "cell_type": "markdown",
      "source": [
        "## EXPLORING THE TARGET FEATURE"
      ],
      "metadata": {
        "id": "MB790PAJlpce"
      }
    },
    {
      "cell_type": "markdown",
      "source": [
        "****I chose green for employees who stayed in their jobs and red for those who left. The color red highlights the risk associated with attrition.****"
      ],
      "metadata": {
        "id": "7KatBn1Zlpce"
      }
    },
    {
      "cell_type": "code",
      "source": [
        "import seaborn as sns\n",
        "import matplotlib.pyplot as plt\n",
        "\n",
        "palette = {'No': 'green', 'Yes': 'red'}\n",
        "\n",
        "sns.countplot(data=df, x='Attrition', palette=palette)\n",
        "plt.title('Attrition Distribution')\n",
        "plt.show()\n"
      ],
      "metadata": {
        "id": "SQYkPxWqlpce",
        "execution": {
          "iopub.status.busy": "2024-09-28T15:39:42.742035Z",
          "iopub.execute_input": "2024-09-28T15:39:42.742815Z",
          "iopub.status.idle": "2024-09-28T15:39:43.028638Z",
          "shell.execute_reply.started": "2024-09-28T15:39:42.742769Z",
          "shell.execute_reply": "2024-09-28T15:39:43.027022Z"
        },
        "trusted": true
      },
      "execution_count": null,
      "outputs": []
    },
    {
      "cell_type": "markdown",
      "source": [
        "**here i counted their percentages to validate the visulaiztion by numbers**"
      ],
      "metadata": {
        "id": "PDhIc6Sylpce"
      }
    },
    {
      "cell_type": "code",
      "source": [
        "print(df['Attrition'].value_counts(normalize=True) * 100)\n"
      ],
      "metadata": {
        "id": "3e1nZvEtlpcf",
        "execution": {
          "iopub.status.busy": "2024-09-28T15:39:43.030628Z",
          "iopub.execute_input": "2024-09-28T15:39:43.03146Z",
          "iopub.status.idle": "2024-09-28T15:39:43.042116Z",
          "shell.execute_reply.started": "2024-09-28T15:39:43.0314Z",
          "shell.execute_reply": "2024-09-28T15:39:43.040561Z"
        },
        "trusted": true
      },
      "execution_count": null,
      "outputs": []
    },
    {
      "cell_type": "markdown",
      "source": [
        "**i wanted to explore and understand each catergorical feature in my data so i can deeply understand their influnce on the problem of attrition itself**"
      ],
      "metadata": {
        "id": "nCn_qZy2lpcf"
      }
    },
    {
      "cell_type": "code",
      "source": [
        "!pip install plotly\n"
      ],
      "metadata": {
        "id": "goUSEr2ilpcf",
        "execution": {
          "iopub.status.busy": "2024-09-28T15:39:43.04433Z",
          "iopub.execute_input": "2024-09-28T15:39:43.045028Z",
          "iopub.status.idle": "2024-09-28T15:40:16.161831Z",
          "shell.execute_reply.started": "2024-09-28T15:39:43.044968Z",
          "shell.execute_reply": "2024-09-28T15:40:16.160358Z"
        },
        "trusted": true
      },
      "execution_count": null,
      "outputs": []
    },
    {
      "cell_type": "code",
      "source": [
        "cat_cols = df.select_dtypes(['object']).columns\n",
        "\n",
        "cat_cols"
      ],
      "metadata": {
        "id": "P4lOXNFYlpcf",
        "execution": {
          "iopub.status.busy": "2024-09-28T15:40:16.163942Z",
          "iopub.execute_input": "2024-09-28T15:40:16.164526Z",
          "iopub.status.idle": "2024-09-28T15:40:16.176964Z",
          "shell.execute_reply.started": "2024-09-28T15:40:16.164469Z",
          "shell.execute_reply": "2024-09-28T15:40:16.175447Z"
        },
        "trusted": true
      },
      "execution_count": null,
      "outputs": []
    },
    {
      "cell_type": "code",
      "source": [
        "import pandas as pd\n",
        "import plotly.express as px"
      ],
      "metadata": {
        "id": "nyHxIQX9lpcf",
        "execution": {
          "iopub.status.busy": "2024-09-28T15:40:16.178841Z",
          "iopub.execute_input": "2024-09-28T15:40:16.17972Z",
          "iopub.status.idle": "2024-09-28T15:40:16.866589Z",
          "shell.execute_reply.started": "2024-09-28T15:40:16.17966Z",
          "shell.execute_reply": "2024-09-28T15:40:16.865291Z"
        },
        "trusted": true
      },
      "execution_count": null,
      "outputs": []
    },
    {
      "cell_type": "code",
      "source": [
        "import pandas as pd\n",
        "import plotly.express as px\n",
        "\n",
        "def cat_summary(df, col_name, plot=False):\n",
        "    summary = pd.DataFrame({col_name: df[col_name].value_counts(),\n",
        "                            \"Ratio\": 100 * df[col_name].value_counts() / len(df)})\n",
        "    print(summary)\n",
        "\n",
        "    if plot:\n",
        "        color_map = {\n",
        "            'Travel_Rarely': 'plum',\n",
        "            'Travel_Frequently': 'mediumorchid',\n",
        "            'Non-Travel': 'darkviolet'\n",
        "        }\n",
        "\n",
        "        fig = px.histogram(df, x=col_name, color=col_name,\n",
        "                           color_discrete_map=color_map,\n",
        "                           title=f'Distribution of {col_name}',\n",
        "                           labels={col_name: col_name})\n",
        "        fig.update_layout(xaxis_title=col_name, yaxis_title='Count')\n",
        "        fig.show()\n"
      ],
      "metadata": {
        "id": "QZ6RgmMxlpcf",
        "execution": {
          "iopub.status.busy": "2024-09-28T15:40:16.868266Z",
          "iopub.execute_input": "2024-09-28T15:40:16.869461Z",
          "iopub.status.idle": "2024-09-28T15:40:16.878418Z",
          "shell.execute_reply.started": "2024-09-28T15:40:16.869402Z",
          "shell.execute_reply": "2024-09-28T15:40:16.877263Z"
        },
        "trusted": true
      },
      "execution_count": null,
      "outputs": []
    },
    {
      "cell_type": "markdown",
      "source": [
        "## here as we can see we have the BusinessTravel is organized into 3 categories with the most of them rarely travel"
      ],
      "metadata": {
        "id": "Ov9Ke-UTlpcf",
        "jp-MarkdownHeadingCollapsed": true
      }
    },
    {
      "cell_type": "code",
      "source": [
        "col = 'BusinessTravel'\n",
        "if df[col].dtypes == \"bool\":\n",
        "    df[col] = df[col].astype(int)\n",
        "cat_summary(df, col, plot=True)\n"
      ],
      "metadata": {
        "id": "S5AaSb71lpcf",
        "execution": {
          "iopub.status.busy": "2024-09-28T15:40:16.880229Z",
          "iopub.execute_input": "2024-09-28T15:40:16.880621Z",
          "iopub.status.idle": "2024-09-28T15:40:19.090847Z",
          "shell.execute_reply.started": "2024-09-28T15:40:16.880582Z",
          "shell.execute_reply": "2024-09-28T15:40:19.089738Z"
        },
        "trusted": true
      },
      "execution_count": null,
      "outputs": []
    },
    {
      "cell_type": "markdown",
      "source": [
        "## here as we can see we have the Department is organized into 3 sectors  salse ,research and HR with the sales is the dominant sectors is the employees so its important department to focuse on and improve"
      ],
      "metadata": {
        "id": "cDbHpVZnlpcf",
        "jp-MarkdownHeadingCollapsed": true
      }
    },
    {
      "cell_type": "code",
      "source": [
        "col = 'Department'\n",
        "if df[col].dtypes == \"bool\":\n",
        "    df[col] = df[col].astype(int)\n",
        "cat_summary(df, col, plot=True)\n"
      ],
      "metadata": {
        "id": "d5cNH4Uvlpcg",
        "execution": {
          "iopub.status.busy": "2024-09-28T15:40:19.09216Z",
          "iopub.execute_input": "2024-09-28T15:40:19.092498Z",
          "iopub.status.idle": "2024-09-28T15:40:19.177037Z",
          "shell.execute_reply.started": "2024-09-28T15:40:19.092462Z",
          "shell.execute_reply": "2024-09-28T15:40:19.175885Z"
        },
        "trusted": true
      },
      "execution_count": null,
      "outputs": []
    },
    {
      "cell_type": "code",
      "source": [
        "cat_cols"
      ],
      "metadata": {
        "id": "adTw61xNlpcg",
        "execution": {
          "iopub.status.busy": "2024-09-28T15:40:19.178411Z",
          "iopub.execute_input": "2024-09-28T15:40:19.178755Z",
          "iopub.status.idle": "2024-09-28T15:40:19.186451Z",
          "shell.execute_reply.started": "2024-09-28T15:40:19.178719Z",
          "shell.execute_reply": "2024-09-28T15:40:19.18515Z"
        },
        "trusted": true
      },
      "execution_count": null,
      "outputs": []
    },
    {
      "cell_type": "markdown",
      "source": [
        "## here as we can see we have the EducationField is divided into into 6 categories with the life sciences (as known as Biology) is the dominant category and the medical being the second which intially makes us predict that the feild that the employess are working i  not the one which they were studing in the univesrity"
      ],
      "metadata": {
        "id": "oZ9Plb4jlpcg",
        "jp-MarkdownHeadingCollapsed": true
      }
    },
    {
      "cell_type": "code",
      "source": [
        "col = 'EducationField'\n",
        "if df[col].dtypes == \"bool\":\n",
        "    df[col] = df[col].astype(int)\n",
        "cat_summary(df, col, plot=True)\n"
      ],
      "metadata": {
        "id": "u97az207lpcg",
        "execution": {
          "iopub.status.busy": "2024-09-28T15:40:19.188409Z",
          "iopub.execute_input": "2024-09-28T15:40:19.188798Z",
          "iopub.status.idle": "2024-09-28T15:40:19.287471Z",
          "shell.execute_reply.started": "2024-09-28T15:40:19.188758Z",
          "shell.execute_reply": "2024-09-28T15:40:19.286292Z"
        },
        "trusted": true
      },
      "execution_count": null,
      "outputs": []
    },
    {
      "cell_type": "code",
      "source": [
        "cat_cols"
      ],
      "metadata": {
        "id": "9onI-l5Clpcg",
        "execution": {
          "iopub.status.busy": "2024-09-28T15:40:19.289095Z",
          "iopub.execute_input": "2024-09-28T15:40:19.289922Z",
          "iopub.status.idle": "2024-09-28T15:40:19.297454Z",
          "shell.execute_reply.started": "2024-09-28T15:40:19.289865Z",
          "shell.execute_reply": "2024-09-28T15:40:19.296193Z"
        },
        "trusted": true
      },
      "execution_count": null,
      "outputs": []
    },
    {
      "cell_type": "markdown",
      "source": [
        "## the most dominate gender of the work force is males which probavly assumes that the attrition ratio would be higher for men than a woman"
      ],
      "metadata": {
        "id": "8D5k8lmVlpcg",
        "jp-MarkdownHeadingCollapsed": true
      }
    },
    {
      "cell_type": "code",
      "source": [
        "\n",
        "\n",
        "def cat_summary(df, col_name, plot=False):\n",
        "    summary = pd.DataFrame({col_name: df[col_name].value_counts(),\n",
        "                            \"Ratio\": 100 * df[col_name].value_counts() / len(df)})\n",
        "    print(summary)\n",
        "\n",
        "    # Plot if specified\n",
        "    if plot:\n",
        "        color_map = {\n",
        "            'Male': '#1f77b4',\n",
        "            'Female': 'ff69b4'\n",
        "        }\n",
        "\n",
        "        fig = px.pie(df, names=col_name, color=col_name,\n",
        "                     color_discrete_map=color_map,\n",
        "                     title=f'Distribution of {col_name}')\n",
        "        fig.update_layout(showlegend=True)\n",
        "        fig.show()\n",
        "\n",
        "col = 'Gender'\n",
        "cat_summary(df, col, plot=True)\n"
      ],
      "metadata": {
        "id": "WswN2YUqlpcg",
        "execution": {
          "iopub.status.busy": "2024-09-28T15:40:19.299161Z",
          "iopub.execute_input": "2024-09-28T15:40:19.29962Z",
          "iopub.status.idle": "2024-09-28T15:40:19.423669Z",
          "shell.execute_reply.started": "2024-09-28T15:40:19.299573Z",
          "shell.execute_reply": "2024-09-28T15:40:19.422394Z"
        },
        "trusted": true
      },
      "execution_count": null,
      "outputs": []
    },
    {
      "cell_type": "code",
      "source": [
        "cat_cols"
      ],
      "metadata": {
        "id": "ZFdzLqTFlpch",
        "execution": {
          "iopub.status.busy": "2024-09-28T15:40:19.425267Z",
          "iopub.execute_input": "2024-09-28T15:40:19.425703Z",
          "iopub.status.idle": "2024-09-28T15:40:19.434321Z",
          "shell.execute_reply.started": "2024-09-28T15:40:19.425655Z",
          "shell.execute_reply": "2024-09-28T15:40:19.433091Z"
        },
        "trusted": true
      },
      "execution_count": null,
      "outputs": []
    },
    {
      "cell_type": "code",
      "source": [
        "import pandas as pd\n",
        "import plotly.express as px\n",
        "\n",
        "def cat_summary(df, col_name, plot=False):\n",
        "    summary = pd.DataFrame({col_name: df[col_name].value_counts(),\n",
        "                            \"Ratio\": 100 * df[col_name].value_counts() / len(df)})\n",
        "    print(summary)\n",
        "\n",
        "    if plot:\n",
        "        color_map = {\n",
        "            'Sales Executive': '#006d6d',  # Dark teal\n",
        "            'Research Scientist': '#009999',  # Medium teal\n",
        "            'Laboratory Technician': '#00b3b3',  # Light teal\n",
        "            'Manufacturing Director': '#66cccc',  # Very light teal\n",
        "            'Healthcare Representative': '#33cccc',  # Light teal\n",
        "            'Manager': '#004d4d',  # Darker teal\n",
        "            'Sales Representative': '#4db3b3',  # Medium-light teal\n",
        "            'Research Director': '#1a8c8c',  # Medium-dark teal\n",
        "            'Human Resources': '#80e0e0'   # Very light teal\n",
        "        }\n",
        "\n",
        "        fig = px.histogram(df, x=col_name, color=col_name,\n",
        "                           color_discrete_map=color_map,\n",
        "                           title=f'Distribution of {col_name}',\n",
        "                           labels={col_name: col_name})\n",
        "        fig.update_layout(xaxis_title=col_name, yaxis_title='Count')\n",
        "        fig.show()\n",
        "\n",
        "col = 'JobRole'\n",
        "cat_summary(df, col, plot=True)\n"
      ],
      "metadata": {
        "id": "iVnjCbK8lpch",
        "execution": {
          "iopub.status.busy": "2024-09-28T15:40:19.43591Z",
          "iopub.execute_input": "2024-09-28T15:40:19.436323Z",
          "iopub.status.idle": "2024-09-28T15:40:19.549244Z",
          "shell.execute_reply.started": "2024-09-28T15:40:19.436286Z",
          "shell.execute_reply": "2024-09-28T15:40:19.548141Z"
        },
        "trusted": true
      },
      "execution_count": null,
      "outputs": []
    },
    {
      "cell_type": "code",
      "source": [
        "cat_cols"
      ],
      "metadata": {
        "id": "zlqXg5tDlpch",
        "execution": {
          "iopub.status.busy": "2024-09-28T15:40:19.550564Z",
          "iopub.execute_input": "2024-09-28T15:40:19.550912Z",
          "iopub.status.idle": "2024-09-28T15:40:19.558328Z",
          "shell.execute_reply.started": "2024-09-28T15:40:19.550875Z",
          "shell.execute_reply": "2024-09-28T15:40:19.557126Z"
        },
        "trusted": true
      },
      "execution_count": null,
      "outputs": []
    },
    {
      "cell_type": "code",
      "source": [
        "\n",
        "\n",
        "def cat_summary(df, col_name, plot=False):\n",
        "    summary = pd.DataFrame({col_name: df[col_name].value_counts(),\n",
        "                            \"Ratio\": 100 * df[col_name].value_counts() / len(df)})\n",
        "    print(summary)\n",
        "\n",
        "    # Plot if specified\n",
        "    if plot:\n",
        "        color_map = {\n",
        "            'Married': '#2ca02c',  # Green, representing stability and balance\n",
        "            'Single': '#1f77b4',   # Blue, representing freedom and openness\n",
        "            'Divorced': '#d62728'  # Red, representing change or disruption\n",
        "        }\n",
        "\n",
        "        fig = px.pie(df, names=col_name, color=col_name,\n",
        "                     color_discrete_map=color_map,\n",
        "                     title=f'Distribution of {col_name}')\n",
        "        fig.update_layout(showlegend=True)\n",
        "        fig.show()\n",
        "\n",
        "col = 'MaritalStatus'\n",
        "cat_summary(df, col, plot=True)\n"
      ],
      "metadata": {
        "id": "yAKk8ep6lpch",
        "execution": {
          "iopub.status.busy": "2024-09-28T15:40:19.559834Z",
          "iopub.execute_input": "2024-09-28T15:40:19.560237Z",
          "iopub.status.idle": "2024-09-28T15:40:19.64402Z",
          "shell.execute_reply.started": "2024-09-28T15:40:19.56019Z",
          "shell.execute_reply": "2024-09-28T15:40:19.64274Z"
        },
        "trusted": true
      },
      "execution_count": null,
      "outputs": []
    },
    {
      "cell_type": "code",
      "source": [
        "df['Over18'].unique()"
      ],
      "metadata": {
        "id": "kzjtqxIAlpch",
        "execution": {
          "iopub.status.busy": "2024-09-28T15:40:19.646228Z",
          "iopub.execute_input": "2024-09-28T15:40:19.64672Z",
          "iopub.status.idle": "2024-09-28T15:40:19.655305Z",
          "shell.execute_reply.started": "2024-09-28T15:40:19.646667Z",
          "shell.execute_reply": "2024-09-28T15:40:19.654134Z"
        },
        "trusted": true
      },
      "execution_count": null,
      "outputs": []
    },
    {
      "cell_type": "markdown",
      "source": [
        "#all the over 18 column  contains over 18 employess which does not give us an effitive info about the attrition problem which i see the best to drop it"
      ],
      "metadata": {
        "id": "_0j9kjNXlpch"
      }
    },
    {
      "cell_type": "code",
      "source": [
        "import pandas as pd\n",
        "import plotly.express as px\n",
        "\n",
        "def cat_summary(df, col_name, plot=False):\n",
        "    # Print summary statistics\n",
        "    summary = pd.DataFrame({col_name: df[col_name].value_counts(),\n",
        "                            \"Ratio\": 100 * df[col_name].value_counts() / len(df)})\n",
        "    print(summary)\n",
        "\n",
        "    # Plot if specified\n",
        "    if plot:\n",
        "        color_map = {\n",
        "            'Yes': '#4caf50',  # Green, representing eligibility or approval\n",
        "            'No': '#f44336'    # Red, representing non-eligibility or restriction\n",
        "        }\n",
        "\n",
        "        fig = px.pie(df, names=col_name, color=col_name,\n",
        "                     color_discrete_map=color_map,\n",
        "                     title=f'Distribution of {col_name}')\n",
        "        fig.update_layout(showlegend=True)\n",
        "        fig.show()\n",
        "\n",
        "col = 'Over18'\n",
        "cat_summary(df, col, plot=True)\n"
      ],
      "metadata": {
        "id": "64kOHhT0lpch",
        "execution": {
          "iopub.status.busy": "2024-09-28T15:40:19.656873Z",
          "iopub.execute_input": "2024-09-28T15:40:19.657634Z",
          "iopub.status.idle": "2024-09-28T15:40:19.738948Z",
          "shell.execute_reply.started": "2024-09-28T15:40:19.657588Z",
          "shell.execute_reply": "2024-09-28T15:40:19.737835Z"
        },
        "trusted": true
      },
      "execution_count": null,
      "outputs": []
    },
    {
      "cell_type": "code",
      "source": [
        "df['OverTime'].unique"
      ],
      "metadata": {
        "id": "4GWlF8pZlpci",
        "execution": {
          "iopub.status.busy": "2024-09-28T15:40:19.745482Z",
          "iopub.execute_input": "2024-09-28T15:40:19.745887Z",
          "iopub.status.idle": "2024-09-28T15:40:19.754981Z",
          "shell.execute_reply.started": "2024-09-28T15:40:19.745848Z",
          "shell.execute_reply": "2024-09-28T15:40:19.753727Z"
        },
        "trusted": true
      },
      "execution_count": null,
      "outputs": []
    },
    {
      "cell_type": "code",
      "source": [
        "#the distribution of attrition over time"
      ],
      "metadata": {
        "id": "O92gIJwClpcr",
        "execution": {
          "iopub.status.busy": "2024-09-28T15:40:19.756545Z",
          "iopub.execute_input": "2024-09-28T15:40:19.757004Z",
          "iopub.status.idle": "2024-09-28T15:40:19.767408Z",
          "shell.execute_reply.started": "2024-09-28T15:40:19.756962Z",
          "shell.execute_reply": "2024-09-28T15:40:19.765908Z"
        },
        "trusted": true
      },
      "execution_count": null,
      "outputs": []
    },
    {
      "cell_type": "code",
      "source": [
        "def cat_summary(df, col_name, plot=False):\n",
        "    summary = pd.DataFrame({\n",
        "        col_name: df[col_name].value_counts(),\n",
        "        \"Ratio\": 100 * df[col_name].value_counts() / len(df)\n",
        "    })\n",
        "    print(summary)\n",
        "\n",
        "    if plot:\n",
        "        color_map = {\n",
        "            'Yes': '#4caf50',\n",
        "            'No': '#f44336'\n",
        "        }\n",
        "\n",
        "        fig = px.histogram(df, x=col_name, color=col_name,\n",
        "                           color_discrete_map=color_map,\n",
        "                           title=f'Distribution of {col_name}')\n",
        "        fig.update_layout(showlegend=True)\n",
        "        fig.show()\n",
        "\n",
        "col = 'OverTime'\n",
        "cat_summary(df, col, plot=True)\n"
      ],
      "metadata": {
        "id": "4LKjqur_lpcr",
        "execution": {
          "iopub.status.busy": "2024-09-28T15:40:19.76921Z",
          "iopub.execute_input": "2024-09-28T15:40:19.7697Z",
          "iopub.status.idle": "2024-09-28T15:40:19.852369Z",
          "shell.execute_reply.started": "2024-09-28T15:40:19.769649Z",
          "shell.execute_reply": "2024-09-28T15:40:19.851151Z"
        },
        "trusted": true
      },
      "execution_count": null,
      "outputs": []
    },
    {
      "cell_type": "code",
      "source": [
        "df.describe().info()"
      ],
      "metadata": {
        "id": "F13tcOeylpcr",
        "execution": {
          "iopub.status.busy": "2024-09-28T15:40:19.854379Z",
          "iopub.execute_input": "2024-09-28T15:40:19.854771Z",
          "iopub.status.idle": "2024-09-28T15:40:19.917851Z",
          "shell.execute_reply.started": "2024-09-28T15:40:19.854732Z",
          "shell.execute_reply": "2024-09-28T15:40:19.916632Z"
        },
        "trusted": true
      },
      "execution_count": null,
      "outputs": []
    },
    {
      "cell_type": "markdown",
      "source": [
        "#the age column is slightly normally distributed with a slight ski=ewness for the older employess"
      ],
      "metadata": {
        "id": "kgcaHcQilpcr"
      }
    },
    {
      "cell_type": "code",
      "source": [
        "fig = px.histogram(df, x='Age', title='Distribution of Age')\n",
        "fig.update_layout(showlegend=False)\n",
        "fig.show()\n"
      ],
      "metadata": {
        "id": "MK_lU6EUlpcr",
        "execution": {
          "iopub.status.busy": "2024-09-28T15:40:19.919241Z",
          "iopub.execute_input": "2024-09-28T15:40:19.919595Z",
          "iopub.status.idle": "2024-09-28T15:40:19.979786Z",
          "shell.execute_reply.started": "2024-09-28T15:40:19.919558Z",
          "shell.execute_reply": "2024-09-28T15:40:19.978621Z"
        },
        "trusted": true
      },
      "execution_count": null,
      "outputs": []
    },
    {
      "cell_type": "markdown",
      "source": [
        "#the distance from home here is quitesimiliar between all employees which make it not an effictive info in the determination of attrition"
      ],
      "metadata": {
        "id": "sNrzTrqIlpcr"
      }
    },
    {
      "cell_type": "code",
      "source": [
        "fig = px.histogram(df, x='DistanceFromHome', title='Distribution of DistanceFromHome')\n",
        "fig.update_layout(showlegend=False)\n",
        "fig.show()\n"
      ],
      "metadata": {
        "id": "kZTEROyIlpcs",
        "execution": {
          "iopub.status.busy": "2024-09-28T15:40:19.981514Z",
          "iopub.execute_input": "2024-09-28T15:40:19.981995Z",
          "iopub.status.idle": "2024-09-28T15:40:20.045907Z",
          "shell.execute_reply.started": "2024-09-28T15:40:19.981942Z",
          "shell.execute_reply": "2024-09-28T15:40:20.044693Z"
        },
        "trusted": true
      },
      "execution_count": null,
      "outputs": []
    },
    {
      "cell_type": "markdown",
      "source": [
        "#here all departments show a range of satisfaction levels, but human resources  have lower satisfaction on average compared to the others, and there is significant variability in responses within the Sales and Research & Development departments which makes it a problem needs to be solved"
      ],
      "metadata": {
        "id": "XFJNWA4mlpcs"
      }
    },
    {
      "cell_type": "code",
      "source": [
        "\n",
        "def plot_violin_plot_by_department(df):\n",
        "    fig = px.violin(df, x='Department', y='EnvironmentSatisfaction',\n",
        "                    box=True, points='all',\n",
        "                    title='Environment Satisfaction by Department')\n",
        "    fig.update_layout(showlegend=False)\n",
        "    fig.show()\n",
        "\n",
        "plot_violin_plot_by_department(df)\n"
      ],
      "metadata": {
        "id": "P8rqqK6Rlpcs",
        "execution": {
          "iopub.status.busy": "2024-09-28T15:40:20.047554Z",
          "iopub.execute_input": "2024-09-28T15:40:20.048021Z",
          "iopub.status.idle": "2024-09-28T15:40:20.159252Z",
          "shell.execute_reply.started": "2024-09-28T15:40:20.047967Z",
          "shell.execute_reply": "2024-09-28T15:40:20.158142Z"
        },
        "trusted": true
      },
      "execution_count": null,
      "outputs": []
    },
    {
      "cell_type": "markdown",
      "source": [
        "#the job involvemnt of Reasearch and development is the biggest which make is it the most important sector in the department to focus on ,then the sales"
      ],
      "metadata": {
        "id": "LicGCeYjlpcs"
      }
    },
    {
      "cell_type": "code",
      "source": [
        "\n",
        "custom_palette = ['#d3d3d3', '#8a2be2', '#c8a2c8']\n",
        "\n",
        "job_involvement_fig = px.histogram(df, x='JobInvolvement', color='Department',\n",
        "                                   color_discrete_sequence=custom_palette,\n",
        "                                   title='Distribution of Job Involvement by Department',\n",
        "                                   labels={'JobInvolvement': 'Job Involvement'})\n",
        "job_involvement_fig.show()\n"
      ],
      "metadata": {
        "id": "0g7rUnFalpcs",
        "execution": {
          "iopub.status.busy": "2024-09-28T15:40:20.160647Z",
          "iopub.execute_input": "2024-09-28T15:40:20.161025Z",
          "iopub.status.idle": "2024-09-28T15:40:20.234039Z",
          "shell.execute_reply.started": "2024-09-28T15:40:20.16098Z",
          "shell.execute_reply": "2024-09-28T15:40:20.232825Z"
        },
        "trusted": true
      },
      "execution_count": null,
      "outputs": []
    },
    {
      "cell_type": "markdown",
      "source": [
        "#the satisfation rate across the departments is quiet normal except the HR beeing the least satisfied"
      ],
      "metadata": {
        "id": "8Lf2V-TIlpcs"
      }
    },
    {
      "cell_type": "code",
      "source": [
        "\n",
        "color_palette = ['#f28e2b', '#f5b041', '#f9e79f', '#a9dfbf', '#85c1ae']\n",
        "\n",
        "env_satisfaction_fig = px.histogram(df, x='EnvironmentSatisfaction', color='Department',\n",
        "                                    color_discrete_sequence=color_palette,\n",
        "                                    title='Distribution of Environment Satisfaction by Department',\n",
        "                                    labels={'EnvironmentSatisfaction': 'Environment Satisfaction'})\n",
        "env_satisfaction_fig.show()\n"
      ],
      "metadata": {
        "id": "fnE7Kg04lpcs",
        "execution": {
          "iopub.status.busy": "2024-09-28T15:40:20.235416Z",
          "iopub.execute_input": "2024-09-28T15:40:20.235787Z",
          "iopub.status.idle": "2024-09-28T15:40:20.309995Z",
          "shell.execute_reply.started": "2024-09-28T15:40:20.23575Z",
          "shell.execute_reply": "2024-09-28T15:40:20.308801Z"
        },
        "trusted": true
      },
      "execution_count": null,
      "outputs": []
    },
    {
      "cell_type": "markdown",
      "source": [
        "## the gender with the most attretion rate is males"
      ],
      "metadata": {
        "id": "_ogHbIrrlpcs",
        "jp-MarkdownHeadingCollapsed": true
      }
    },
    {
      "cell_type": "code",
      "source": [
        "\n",
        "fig = px.histogram(df, x='Gender', color='Attrition',\n",
        "                   barmode='group',  # This arranges bars side by side\n",
        "                   category_orders={'Attrition': ['Yes', 'No']},\n",
        "                   labels={'Attrition': 'Attrition Status'},\n",
        "                   title='Attrition Distribution by Gender',\n",
        "                   color_discrete_map={\n",
        "\n",
        "                       'Yes': 'red',\n",
        "                       'No': 'gray'\n",
        "                   })\n",
        "\n",
        "fig.update_layout(\n",
        "    xaxis_title='Gender',\n",
        "    yaxis_title='Count',\n",
        "    legend_title='Attrition Status'\n",
        ")\n",
        "\n",
        "# Show the plot\n",
        "fig.show()\n"
      ],
      "metadata": {
        "id": "SplHhwPxlpcs",
        "execution": {
          "iopub.status.busy": "2024-09-28T15:40:20.311375Z",
          "iopub.execute_input": "2024-09-28T15:40:20.311709Z",
          "iopub.status.idle": "2024-09-28T15:40:20.389271Z",
          "shell.execute_reply.started": "2024-09-28T15:40:20.311675Z",
          "shell.execute_reply": "2024-09-28T15:40:20.38786Z"
        },
        "trusted": true
      },
      "execution_count": null,
      "outputs": []
    },
    {
      "cell_type": "markdown",
      "source": [
        "## he most attrition by travel is the people who travel rarely"
      ],
      "metadata": {
        "id": "UUw-xN62lpct",
        "jp-MarkdownHeadingCollapsed": true
      }
    },
    {
      "cell_type": "code",
      "source": [
        "import plotly.express as px\n",
        "\n",
        "def plot_attrition_distribution(df, col):\n",
        "    color_map = {\n",
        "        'yes': 'green',\n",
        "        'no': 'red'\n",
        "    }\n",
        "\n",
        "    fig = px.histogram(df, x=col, color='Attrition', barmode='group',\n",
        "                       color_discrete_map=color_map,  # Apply color mapping\n",
        "                       labels={col: col, 'count': 'Count'},\n",
        "                       title=f'Attrition Distribution by {col}')\n",
        "\n",
        "    total_height = len(df['Attrition'])\n",
        "\n",
        "    fig.update_layout(\n",
        "        xaxis_title=col,\n",
        "        yaxis_title='Count',\n",
        "        title=f'Attrition Distribution by {col}'\n",
        "    )\n",
        "\n",
        "    for i, row in df.groupby([col, 'Attrition']).size().reset_index(name='count').iterrows():\n",
        "        percentage = '{:.1f}%'.format(100 * row['count'] / total_height)\n",
        "        fig.add_annotation(\n",
        "            x=row[col],\n",
        "            y=row['count'],\n",
        "            text=percentage,\n",
        "            showarrow=True,\n",
        "            arrowhead=2\n",
        "        )\n",
        "\n",
        "    fig.show()\n"
      ],
      "metadata": {
        "id": "Rc49HZAPlpct",
        "execution": {
          "iopub.status.busy": "2024-09-28T15:40:20.391025Z",
          "iopub.execute_input": "2024-09-28T15:40:20.391537Z",
          "iopub.status.idle": "2024-09-28T15:40:20.40095Z",
          "shell.execute_reply.started": "2024-09-28T15:40:20.391487Z",
          "shell.execute_reply": "2024-09-28T15:40:20.399623Z"
        },
        "trusted": true
      },
      "execution_count": null,
      "outputs": []
    },
    {
      "cell_type": "code",
      "source": [
        "plot_attrition_distribution(df, \"BusinessTravel\")\n"
      ],
      "metadata": {
        "id": "MO6GTrC0lpct",
        "execution": {
          "iopub.status.busy": "2024-09-28T15:40:20.402352Z",
          "iopub.execute_input": "2024-09-28T15:40:20.402745Z",
          "iopub.status.idle": "2024-09-28T15:40:20.507465Z",
          "shell.execute_reply.started": "2024-09-28T15:40:20.402708Z",
          "shell.execute_reply": "2024-09-28T15:40:20.506283Z"
        },
        "trusted": true
      },
      "execution_count": null,
      "outputs": []
    },
    {
      "cell_type": "markdown",
      "source": [
        "## the department with the most attrtion is Research and development"
      ],
      "metadata": {
        "id": "kgRIy8hOlpct",
        "jp-MarkdownHeadingCollapsed": true
      }
    },
    {
      "cell_type": "code",
      "source": [
        "plot_attrition_distribution(df, \"Department\")\n"
      ],
      "metadata": {
        "id": "457E-kT0lpcu",
        "execution": {
          "iopub.status.busy": "2024-09-28T15:40:20.508803Z",
          "iopub.execute_input": "2024-09-28T15:40:20.50918Z",
          "iopub.status.idle": "2024-09-28T15:40:20.592505Z",
          "shell.execute_reply.started": "2024-09-28T15:40:20.509143Z",
          "shell.execute_reply": "2024-09-28T15:40:20.590986Z"
        },
        "trusted": true
      },
      "execution_count": null,
      "outputs": []
    },
    {
      "cell_type": "markdown",
      "source": [
        "## the feild with the most attrition is the biology feild which needs to be focused on"
      ],
      "metadata": {
        "id": "D9dj-nPzlpcu",
        "jp-MarkdownHeadingCollapsed": true
      }
    },
    {
      "cell_type": "code",
      "source": [
        "plot_attrition_distribution(df, \"EducationField\")\n"
      ],
      "metadata": {
        "id": "8MyCTkcZlpcu",
        "execution": {
          "iopub.status.busy": "2024-09-28T15:40:20.594344Z",
          "iopub.execute_input": "2024-09-28T15:40:20.594701Z",
          "iopub.status.idle": "2024-09-28T15:40:20.691404Z",
          "shell.execute_reply.started": "2024-09-28T15:40:20.594666Z",
          "shell.execute_reply": "2024-09-28T15:40:20.689917Z"
        },
        "trusted": true
      },
      "execution_count": null,
      "outputs": []
    },
    {
      "cell_type": "markdown",
      "source": [
        "## singles are the most ration that leaves work"
      ],
      "metadata": {
        "id": "cbI2G1ealpcu",
        "jp-MarkdownHeadingCollapsed": true
      }
    },
    {
      "cell_type": "code",
      "source": [
        "plot_attrition_distribution(df, \"MaritalStatus\")\n"
      ],
      "metadata": {
        "id": "IxnDrjrelpcu",
        "execution": {
          "iopub.status.busy": "2024-09-28T15:40:20.693022Z",
          "iopub.execute_input": "2024-09-28T15:40:20.693487Z",
          "iopub.status.idle": "2024-09-28T15:40:20.777807Z",
          "shell.execute_reply.started": "2024-09-28T15:40:20.693447Z",
          "shell.execute_reply": "2024-09-28T15:40:20.775791Z"
        },
        "trusted": true
      },
      "execution_count": null,
      "outputs": []
    },
    {
      "cell_type": "code",
      "source": [
        "plt.figure(figsize=(12,6))\n",
        "sns.countplot(x=\"Age\", hue='Attrition', data=df)\n",
        "plt.title(\"Attrition distrition by Age\" )\n",
        "plt.show()"
      ],
      "metadata": {
        "id": "BNKgvy2Alpcu",
        "execution": {
          "iopub.status.busy": "2024-09-28T15:40:20.779369Z",
          "iopub.execute_input": "2024-09-28T15:40:20.780683Z",
          "iopub.status.idle": "2024-09-28T15:40:21.63323Z",
          "shell.execute_reply.started": "2024-09-28T15:40:20.780625Z",
          "shell.execute_reply": "2024-09-28T15:40:21.63215Z"
        },
        "trusted": true
      },
      "execution_count": null,
      "outputs": []
    },
    {
      "cell_type": "markdown",
      "source": [
        "## the monthly income by attrition"
      ],
      "metadata": {
        "id": "4vb4o4zelpcu",
        "jp-MarkdownHeadingCollapsed": true
      }
    },
    {
      "cell_type": "code",
      "source": [
        "plt.figure(figsize=(5,10))\n",
        "sns.relplot(data=df,y='MonthlyIncome',x='Age',hue='Attrition',col='Gender')\n",
        "plt.show()"
      ],
      "metadata": {
        "id": "QqWdAVuplpcv",
        "execution": {
          "iopub.status.busy": "2024-09-28T15:40:21.634499Z",
          "iopub.execute_input": "2024-09-28T15:40:21.634844Z",
          "iopub.status.idle": "2024-09-28T15:40:22.702795Z",
          "shell.execute_reply.started": "2024-09-28T15:40:21.634809Z",
          "shell.execute_reply": "2024-09-28T15:40:22.701565Z"
        },
        "trusted": true
      },
      "execution_count": null,
      "outputs": []
    },
    {
      "cell_type": "code",
      "source": [
        "plt.figure(figsize=(12,6))\n",
        "sns.countplot(x=\"DistanceFromHome\", hue='Attrition', data=df)\n",
        "plt.title(\"Attrition distrition by DistanceFromHome\" )\n",
        "plt.show()"
      ],
      "metadata": {
        "id": "wwiWaR0ilpcv",
        "execution": {
          "iopub.status.busy": "2024-09-28T15:40:22.704694Z",
          "iopub.execute_input": "2024-09-28T15:40:22.70541Z",
          "iopub.status.idle": "2024-09-28T15:40:23.276212Z",
          "shell.execute_reply.started": "2024-09-28T15:40:22.705352Z",
          "shell.execute_reply": "2024-09-28T15:40:23.274777Z"
        },
        "trusted": true
      },
      "execution_count": null,
      "outputs": []
    },
    {
      "cell_type": "markdown",
      "source": [
        "# 2 Data Preprocessing"
      ],
      "metadata": {
        "jp-MarkdownHeadingCollapsed": true,
        "id": "MUtC57YIgyJK"
      }
    },
    {
      "cell_type": "markdown",
      "source": [
        "## 2.0 - Splitting the Data"
      ],
      "metadata": {
        "id": "YAY4QhqOgyJK"
      }
    },
    {
      "cell_type": "code",
      "source": [
        "X = df.drop(columns = ['Attrition'])\n",
        "y = df['Attrition']\n",
        "\n",
        "X_train, X_test, y_train, y_test = train_test_split(X, y, test_size = 0.2, stratify = y, random_state = 42)"
      ],
      "metadata": {
        "execution": {
          "iopub.status.busy": "2024-09-28T15:40:23.277971Z",
          "iopub.execute_input": "2024-09-28T15:40:23.278517Z",
          "iopub.status.idle": "2024-09-28T15:40:23.295524Z",
          "shell.execute_reply.started": "2024-09-28T15:40:23.278462Z",
          "shell.execute_reply": "2024-09-28T15:40:23.294017Z"
        },
        "trusted": true,
        "id": "zJT3ZmCPgyJK"
      },
      "execution_count": null,
      "outputs": []
    },
    {
      "cell_type": "markdown",
      "source": [
        "## 2.1 Data Quality Assessment"
      ],
      "metadata": {
        "jp-MarkdownHeadingCollapsed": true,
        "id": "txivrODxgyJK"
      }
    },
    {
      "cell_type": "code",
      "source": [
        "X_train.info()"
      ],
      "metadata": {
        "scrolled": true,
        "execution": {
          "iopub.status.busy": "2024-09-28T15:40:23.297071Z",
          "iopub.execute_input": "2024-09-28T15:40:23.297485Z",
          "iopub.status.idle": "2024-09-28T15:40:23.313541Z",
          "shell.execute_reply.started": "2024-09-28T15:40:23.297444Z",
          "shell.execute_reply": "2024-09-28T15:40:23.312182Z"
        },
        "trusted": true,
        "id": "UpZa5J1hgyJK"
      },
      "execution_count": null,
      "outputs": []
    },
    {
      "cell_type": "markdown",
      "source": [
        "## 2.2 Data Preprocessing Pipeline"
      ],
      "metadata": {
        "id": "K5ObROZIgyJL"
      }
    },
    {
      "cell_type": "code",
      "source": [
        "# Specify the features to drop\n",
        "features_to_drop = ['Over18', 'EmployeeNumber', 'EmployeeCount', 'EducationField']\n",
        "\n",
        "# Drop features from X_train and X_test\n",
        "X_train = X_train.drop(columns=features_to_drop)\n",
        "X_test = X_test.drop(columns=features_to_drop)\n",
        "\n",
        "\n",
        "# Identify categorical and numerical features\n",
        "categorical_features = X_train.select_dtypes(include=['object', 'category']).columns.tolist()\n",
        "numerical_features = X_train.select_dtypes(exclude=['object', 'category']).columns.tolist()\n",
        "\n",
        "# Create a preprocessing pipeline\n",
        "preprocessor = ColumnTransformer(\n",
        "    transformers=[\n",
        "        ('num', Pipeline(steps=[\n",
        "            ('imputer', KNNImputer(n_neighbors=5)),\n",
        "            ('standard_scaler', StandardScaler()),  # First, standardize\n",
        "            ('min_max_scaler', MinMaxScaler())      # Then, apply min-max scaling\n",
        "        ]), numerical_features),\n",
        "        ('cat', Pipeline(steps=[\n",
        "            ('onehot', OneHotEncoder(handle_unknown='ignore'))\n",
        "        ]), categorical_features)\n",
        "    ]\n",
        ")\n",
        "\n",
        "# Fit and transform the training data\n",
        "X_train_processed = preprocessor.fit_transform(X_train)\n",
        "\n",
        "# Transform the test data\n",
        "X_test_processed = preprocessor.transform(X_test)"
      ],
      "metadata": {
        "execution": {
          "iopub.status.busy": "2024-09-28T15:40:23.31529Z",
          "iopub.execute_input": "2024-09-28T15:40:23.315654Z",
          "iopub.status.idle": "2024-09-28T15:40:23.358895Z",
          "shell.execute_reply.started": "2024-09-28T15:40:23.315617Z",
          "shell.execute_reply": "2024-09-28T15:40:23.357571Z"
        },
        "trusted": true,
        "id": "8RKaFoXHgyJL"
      },
      "execution_count": null,
      "outputs": []
    },
    {
      "cell_type": "markdown",
      "source": [
        "## 2.3 -Preprocessing the Target"
      ],
      "metadata": {
        "jp-MarkdownHeadingCollapsed": true,
        "id": "tIE22NB5gyJL"
      }
    },
    {
      "cell_type": "code",
      "source": [
        "class TargetMapper(BaseEstimator, TransformerMixin):\n",
        "    def fit(self, y, *_):\n",
        "        return self\n",
        "\n",
        "    def transform(self, y):\n",
        "        return y.map({'Yes': 1, 'No': 0})\n",
        "\n",
        "# Preprocess the target variable y\n",
        "target_mapper = TargetMapper()\n",
        "y_train_processed = target_mapper.fit_transform(y_train)\n",
        "y_test_processed = target_mapper.transform(y_test)"
      ],
      "metadata": {
        "execution": {
          "iopub.status.busy": "2024-09-28T15:40:23.360506Z",
          "iopub.execute_input": "2024-09-28T15:40:23.360913Z",
          "iopub.status.idle": "2024-09-28T15:40:23.370189Z",
          "shell.execute_reply.started": "2024-09-28T15:40:23.360873Z",
          "shell.execute_reply": "2024-09-28T15:40:23.368727Z"
        },
        "trusted": true,
        "id": "RpQItiO1gyJL"
      },
      "execution_count": null,
      "outputs": []
    },
    {
      "cell_type": "markdown",
      "source": [
        "# 3 - Learning and Predicting"
      ],
      "metadata": {
        "id": "N28GvHS5gyJL"
      }
    },
    {
      "cell_type": "markdown",
      "source": [
        "## 3.1 - Logistic Regression"
      ],
      "metadata": {
        "id": "EDJFSTN2gyJL"
      }
    },
    {
      "cell_type": "code",
      "source": [
        "from sklearn.linear_model import LogisticRegression\n",
        "from sklearn.metrics import accuracy_score, classification_report\n",
        "\n",
        "# Create a Logistic Regression model\n",
        "log_reg = LogisticRegression(class_weight={0: 1, 1: 1}, max_iter=1000)\n",
        "\n",
        "# Fit the model to the training data\n",
        "log_reg.fit(X_train_processed, y_train_processed)\n",
        "\n",
        "# Make predictions on the test data\n",
        "y_pred = log_reg.predict(X_test_processed)\n",
        "\n",
        "# Evaluate the model\n",
        "print(\"Accuracy:\", accuracy_score(y_test_processed, y_pred))\n",
        "print(classification_report(y_test_processed, y_pred))\n",
        "\n",
        "# Confusion matrix\n",
        "cm = confusion_matrix(y_test_processed, y_pred, labels=[1, 0])\n",
        "\n",
        "# Calculate percentages\n",
        "cm_percentage = cm.astype('float') / cm.sum(axis=1)[:, np.newaxis] * 100\n",
        "\n",
        "# Create a heatmap for the percentage confusion matrix\n",
        "sns.heatmap(cm_percentage, annot=True, fmt=\".2f\", cmap=\"Blues\", xticklabels=['No', 'Yes'], yticklabels=['No', 'Yes'])\n",
        "plt.xlabel('Predicted')\n",
        "plt.ylabel('True')\n",
        "plt.title('Confusion Matrix (Percentages)')\n",
        "plt.show()"
      ],
      "metadata": {
        "execution": {
          "iopub.status.busy": "2024-09-28T15:40:23.372003Z",
          "iopub.execute_input": "2024-09-28T15:40:23.372567Z",
          "iopub.status.idle": "2024-09-28T15:40:23.744831Z",
          "shell.execute_reply.started": "2024-09-28T15:40:23.372513Z",
          "shell.execute_reply": "2024-09-28T15:40:23.743758Z"
        },
        "trusted": true,
        "id": "NaRtQMCQgyJL"
      },
      "execution_count": null,
      "outputs": []
    },
    {
      "cell_type": "markdown",
      "source": [
        "## 3.2 - KNN"
      ],
      "metadata": {
        "id": "r9n8ttY2gyJL"
      }
    },
    {
      "cell_type": "markdown",
      "source": [
        "### 3.2.1 - Initializing the Model"
      ],
      "metadata": {
        "id": "SolzWqaZgyJL"
      }
    },
    {
      "cell_type": "code",
      "source": [
        "from sklearn.neighbors import KNeighborsClassifier\n",
        "knn = KNeighborsClassifier(n_neighbors=5, weights='distance')\n",
        "# Train the model\n",
        "knn.fit(X_train_processed, y_train_processed)"
      ],
      "metadata": {
        "execution": {
          "iopub.status.busy": "2024-09-28T15:40:23.746489Z",
          "iopub.execute_input": "2024-09-28T15:40:23.746954Z",
          "iopub.status.idle": "2024-09-28T15:40:23.760123Z",
          "shell.execute_reply.started": "2024-09-28T15:40:23.746904Z",
          "shell.execute_reply": "2024-09-28T15:40:23.758804Z"
        },
        "trusted": true,
        "id": "qkJ_hJi9gyJM"
      },
      "execution_count": null,
      "outputs": []
    },
    {
      "cell_type": "markdown",
      "source": [
        "### 3.2.2 - Predicting and Evaluating"
      ],
      "metadata": {
        "id": "YDUcMZ56gyJM"
      }
    },
    {
      "cell_type": "code",
      "source": [
        "# Make predictions\n",
        "y_pred = knn.predict(X_test_processed)\n",
        "# Evaluate the model\n",
        "accuracy = accuracy_score(y_test_processed, y_pred)\n",
        "print(f'Accuracy: {accuracy*100:.2f}%')\n",
        "print(\"\\nClassification Report:\\n\", classification_report(y_test_processed, y_pred))\n"
      ],
      "metadata": {
        "scrolled": true,
        "execution": {
          "iopub.status.busy": "2024-09-28T15:40:23.761806Z",
          "iopub.execute_input": "2024-09-28T15:40:23.762321Z",
          "iopub.status.idle": "2024-09-28T15:40:23.950955Z",
          "shell.execute_reply.started": "2024-09-28T15:40:23.762268Z",
          "shell.execute_reply": "2024-09-28T15:40:23.950124Z"
        },
        "trusted": true,
        "id": "IzoS7XvugyJM"
      },
      "execution_count": null,
      "outputs": []
    },
    {
      "cell_type": "markdown",
      "source": [
        "**Comment**: The model is very good at predicting non-leavers (about 100%), but is *terrible* at predicting leavers (8%).<br>\n",
        "This is a cause for concern because predicting an employee leaving is more important.\n",
        "\n",
        "**Analysis**: This is probably due to the fact the attritioning employees are underrepresented in the data (around 16% of employees)."
      ],
      "metadata": {
        "id": "x698-Y7ugyJM"
      }
    },
    {
      "cell_type": "markdown",
      "source": [
        "## 3.3 SVM Classifier"
      ],
      "metadata": {
        "id": "HTL4HDAFgyJM"
      }
    },
    {
      "cell_type": "code",
      "source": [
        "# Define a range of gamma values to try\n",
        "gamma_values = np.logspace(-3, 0, 6)  # Values from 0.001 to 10\n",
        "accuracies = []\n",
        "recalls = []\n",
        "\n",
        "# Loop through each gamma value\n",
        "for gamma in gamma_values:\n",
        "    # Create and fit the SVM model\n",
        "    svm_model = SVC(\n",
        "        class_weight='balanced',\n",
        "        kernel='poly',\n",
        "        gamma=gamma,\n",
        "        max_iter=20000\n",
        "    )\n",
        "    svm_model.fit(X_train_processed, y_train_processed)\n",
        "\n",
        "    # Make predictions\n",
        "    y_pred = svm_model.predict(X_test_processed)\n",
        "\n",
        "    # Record accuracy and recall\n",
        "    accuracies.append(accuracy_score(y_test_processed, y_pred))\n",
        "    recalls.append(recall_score(y_test_processed, y_pred))\n",
        "\n",
        "# Find the best gamma based on accuracy\n",
        "best_accuracy_index = np.argmax(accuracies)\n",
        "best_accuracy_gamma = gamma_values[best_accuracy_index]\n",
        "best_accuracy = accuracies[best_accuracy_index]\n",
        "\n",
        "# Find the best gamma based on recall\n",
        "best_recall_index = np.argmax(recalls)\n",
        "best_recall_gamma = gamma_values[best_recall_index]\n",
        "best_recall = recalls[best_recall_index]\n",
        "\n",
        "# Plotting gamma vs accuracy and recall using Plotly\n",
        "fig = go.Figure()\n",
        "fig.add_trace(go.Scatter(x=gamma_values, y=accuracies, mode='lines+markers', name='Accuracy', line=dict(color='blue')))\n",
        "fig.add_trace(go.Scatter(x=gamma_values, y=recalls, mode='lines+markers', name='Recall', line=dict(color='orange')))\n",
        "\n",
        "# Update layout\n",
        "fig.update_layout(\n",
        "    title='Gamma vs Accuracy and Recall',\n",
        "    xaxis=dict(title='Gamma (RBF Kernel Parameter)'),\n",
        "    yaxis=dict(title='Score'),\n",
        "    xaxis_type='log',  # Use log scale for gamma values\n",
        "    showlegend=True\n",
        ")\n",
        "\n",
        "# Show the plot\n",
        "fig.show()\n",
        "\n",
        "# Output the best gamma values\n",
        "print(f\"Best gamma for accuracy: {best_accuracy_gamma} with accuracy: {best_accuracy}\")\n",
        "print(f\"Best gamma for recall: {best_recall_gamma} with recall: {best_recall}\")\n"
      ],
      "metadata": {
        "execution": {
          "iopub.status.busy": "2024-09-28T15:40:23.95214Z",
          "iopub.execute_input": "2024-09-28T15:40:23.952518Z",
          "iopub.status.idle": "2024-09-28T15:40:24.484937Z",
          "shell.execute_reply.started": "2024-09-28T15:40:23.952479Z",
          "shell.execute_reply": "2024-09-28T15:40:24.483682Z"
        },
        "trusted": true,
        "id": "YsuIVxkCgyJM"
      },
      "execution_count": null,
      "outputs": []
    },
    {
      "cell_type": "code",
      "source": [
        "# Create an SVM model with specified class weights, kernel, and gamma\n",
        "svm_model = SVC(\n",
        "    class_weight='balanced',  # Handle class imbalance\n",
        "    kernel='poly',             # Using Poly kernel\n",
        "    gamma= 0.063,            # Set gamma (try 'scale', 'auto', or a specific float value)\n",
        "    max_iter=20000             # Maximum iterations for convergence\n",
        ")\n",
        "\n",
        "# Fit the model to the training data\n",
        "svm_model.fit(X_train_processed, y_train_processed)\n",
        "\n",
        "# Make predictions and evaluate as before\n",
        "y_pred = svm_model.predict(X_test_processed)\n",
        "print(\"Accuracy:\", accuracy_score(y_test_processed, y_pred))\n",
        "print(classification_report(y_test_processed, y_pred))\n",
        "# Confusion matrix\n",
        "cm = confusion_matrix(y_test_processed, y_pred, labels=[1, 0])\n",
        "# Calculate percentages\n",
        "cm_percentage = cm.astype('float') / cm.sum(axis=1)[:, np.newaxis] * 100\n",
        "# Create a heatmap for the percentage confusion matrix\n",
        "sns.heatmap(cm_percentage, annot=True, fmt=\".2f\", cmap=\"Blues\", xticklabels=['No', 'Yes'], yticklabels=['No', 'Yes'])\n",
        "plt.xlabel('Predicted')\n",
        "plt.ylabel('True')\n",
        "plt.title('Confusion Matrix (Percentages)')\n",
        "plt.show()"
      ],
      "metadata": {
        "execution": {
          "iopub.status.busy": "2024-09-28T15:40:24.486392Z",
          "iopub.execute_input": "2024-09-28T15:40:24.486758Z",
          "iopub.status.idle": "2024-09-28T15:40:24.83253Z",
          "shell.execute_reply.started": "2024-09-28T15:40:24.48672Z",
          "shell.execute_reply": "2024-09-28T15:40:24.831246Z"
        },
        "trusted": true,
        "id": "21WlrOzsgyJM"
      },
      "execution_count": null,
      "outputs": []
    },
    {
      "cell_type": "markdown",
      "source": [
        "## 3.4 - Naive Bayesan Classifier"
      ],
      "metadata": {
        "id": "fGE0xA0igyJN"
      }
    },
    {
      "cell_type": "code",
      "source": [
        "# Create a Naive Bayes classifier\n",
        "nb_classifier = GaussianNB()  # Prior probability for class 0 is 0.3, for class 1 is 0.7\n",
        "\n",
        "# Fit the model to the training data\n",
        "nb_classifier.fit(X_train_processed, y_train_processed)\n",
        "\n",
        "# Make predictions on the test data\n",
        "y_pred = nb_classifier.predict(X_test_processed)\n",
        "\n",
        "# Evaluate the model\n",
        "accuracy = accuracy_score(y_test_processed, y_pred)\n",
        "print(f'Accuracy: {accuracy*100:.2f}%')\n",
        "print(\"\\nClassification Report:\\n\", classification_report(y_test_processed, y_pred))\n",
        "\n",
        "# Confusion matrix\n",
        "conf_matrix = confusion_matrix(y_test_processed, y_pred)\n",
        "\n",
        "# Convert confusion matrix to percentages\n",
        "conf_matrix_percentage = conf_matrix.astype('float') / conf_matrix.sum(axis=1)[:, np.newaxis] * 100\n",
        "\n",
        "# Plot confusion matrix with percentages\n",
        "plt.figure(figsize=(8, 6))\n",
        "sns.heatmap(conf_matrix_percentage, annot=True, fmt=\".2f\", cmap='Blues', cbar=False)\n",
        "plt.title(\"Confusion Matrix (Percentages)\")\n",
        "plt.xlabel(\"Predicted Label\")\n",
        "plt.ylabel(\"True Label\")\n",
        "plt.show()"
      ],
      "metadata": {
        "execution": {
          "iopub.status.busy": "2024-09-28T15:40:24.834013Z",
          "iopub.execute_input": "2024-09-28T15:40:24.834542Z",
          "iopub.status.idle": "2024-09-28T15:40:25.0325Z",
          "shell.execute_reply.started": "2024-09-28T15:40:24.834485Z",
          "shell.execute_reply": "2024-09-28T15:40:25.03141Z"
        },
        "trusted": true,
        "id": "2LxYIck3gyJN"
      },
      "execution_count": null,
      "outputs": []
    },
    {
      "cell_type": "markdown",
      "source": [
        "## 3.5 - Democracy (Model Voting)"
      ],
      "metadata": {
        "jp-MarkdownHeadingCollapsed": true,
        "id": "CKas9giPgyJN"
      }
    },
    {
      "cell_type": "markdown",
      "source": [
        "We let each model make its predictions, then we see which class got the most predictions by the four models.\n",
        "If classes are tied (2 vs 2), we give the vote to whichever class the SVM predicted (because of its high performance)"
      ],
      "metadata": {
        "id": "aCd16sWqgyJN"
      }
    },
    {
      "cell_type": "code",
      "source": [
        "y_pred_svm = svm_model.predict(X_test_processed)\n",
        "y_pred_log_reg = log_reg.predict(X_test_processed)\n",
        "y_pred_knn = knn.predict(X_test_processed)\n",
        "y_pred_nb = nb_classifier.predict(X_test_processed)\n",
        "\n",
        "predictions_df = pd.DataFrame({\n",
        "    'SVM': y_pred_svm,\n",
        "    'LogReg': y_pred_log_reg,\n",
        "    'KNN': y_pred_knn,\n",
        "    'NaiveBayes': y_pred_nb\n",
        "})\n",
        "\n",
        "# Voting function\n",
        "def majority_voting(row):\n",
        "    # Count the votes for each class\n",
        "    votes = row.value_counts()\n",
        "\n",
        "    # If majority agrees, return that prediction\n",
        "    if votes.max() >= 3:\n",
        "        return votes.idxmax()\n",
        "\n",
        "    # If tie, return the SVM's prediction\n",
        "    return row['SVM']\n",
        "\n",
        "# Apply the voting function across all rows\n",
        "y_pred_voting = predictions_df.apply(majority_voting, axis=1)\n",
        "\n",
        "# Evaluate the voting-based classifier\n",
        "print(\"Accuracy of Voting Classifier:\", accuracy_score(y_test_processed, y_pred_voting))\n",
        "print(classification_report(y_test_processed, y_pred_voting))"
      ],
      "metadata": {
        "scrolled": true,
        "execution": {
          "iopub.status.busy": "2024-09-28T15:40:25.033947Z",
          "iopub.execute_input": "2024-09-28T15:40:25.034421Z",
          "iopub.status.idle": "2024-09-28T15:40:25.30941Z",
          "shell.execute_reply.started": "2024-09-28T15:40:25.034383Z",
          "shell.execute_reply": "2024-09-28T15:40:25.308137Z"
        },
        "trusted": true,
        "id": "VLSi70qMgyJN"
      },
      "execution_count": null,
      "outputs": []
    },
    {
      "cell_type": "code",
      "source": [
        "# Weights for each model (e.g., give SVM more weight)\n",
        "weights = {\n",
        "    'SVM': 2,         # SVM has a weight of 3\n",
        "    'LogReg': 2,      # Logistic Regression has a weight of 1\n",
        "    'KNN': 2,         # KNN has a weight of 1\n",
        "    'NaiveBayes': 1   # Naive Bayes has a weight of 1\n",
        "}\n",
        "\n",
        "# Weighted voting function\n",
        "def weighted_voting(row):\n",
        "    # Dictionary to accumulate weighted votes\n",
        "    weighted_votes = {0: 0, 1: 0}\n",
        "\n",
        "    # For each model, add its weighted vote\n",
        "    for model, weight in weights.items():\n",
        "        prediction = row[model]\n",
        "        weighted_votes[prediction] += weight\n",
        "\n",
        "    # Return the class with the highest weighted vote\n",
        "    if weighted_votes[1] > weighted_votes[0]:\n",
        "        return 1\n",
        "    elif weighted_votes[0] > weighted_votes[1]:\n",
        "        return 0\n",
        "    else:\n",
        "        # In case of tie, return the SVM's prediction\n",
        "        return row['LogReg']\n",
        "\n",
        "# Apply the weighted voting function across all rows\n",
        "y_pred_weighted_voting = predictions_df.apply(weighted_voting, axis=1)\n",
        "\n",
        "# Evaluate the weighted voting classifier\n",
        "print(\"Accuracy of Weighted Voting Classifier:\", accuracy_score(y_test_processed, y_pred_weighted_voting))\n",
        "print(classification_report(y_test_processed, y_pred_weighted_voting))\n"
      ],
      "metadata": {
        "execution": {
          "iopub.status.busy": "2024-09-28T15:40:25.310759Z",
          "iopub.execute_input": "2024-09-28T15:40:25.311135Z",
          "iopub.status.idle": "2024-09-28T15:40:25.339586Z",
          "shell.execute_reply.started": "2024-09-28T15:40:25.311094Z",
          "shell.execute_reply": "2024-09-28T15:40:25.338031Z"
        },
        "trusted": true,
        "id": "1G1IXDCXgyJN"
      },
      "execution_count": null,
      "outputs": []
    },
    {
      "cell_type": "code",
      "source": [],
      "metadata": {
        "id": "Yt5VnAoPgyJN"
      },
      "execution_count": null,
      "outputs": []
    }
  ]
}